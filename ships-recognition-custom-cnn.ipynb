{
 "cells": [
  {
   "cell_type": "markdown",
   "id": "closing-savannah",
   "metadata": {
    "papermill": {
     "duration": 0.019402,
     "end_time": "2021-05-01T17:56:16.517674",
     "exception": false,
     "start_time": "2021-05-01T17:56:16.498272",
     "status": "completed"
    },
    "tags": []
   },
   "source": [
    "# Chargement des données"
   ]
  },
  {
   "cell_type": "code",
   "execution_count": 1,
   "id": "crucial-syntax",
   "metadata": {
    "_cell_guid": "b1076dfc-b9ad-4769-8c92-a6c4dae69d19",
    "_uuid": "8f2839f25d086af736a60e9eeb907d3b93b6e0e5",
    "execution": {
     "iopub.execute_input": "2021-05-01T17:56:16.556896Z",
     "iopub.status.busy": "2021-05-01T17:56:16.555339Z",
     "iopub.status.idle": "2021-05-01T17:56:27.542052Z",
     "shell.execute_reply": "2021-05-01T17:56:27.538302Z"
    },
    "papermill": {
     "duration": 11.007105,
     "end_time": "2021-05-01T17:56:27.542466",
     "exception": false,
     "start_time": "2021-05-01T17:56:16.535361",
     "status": "completed"
    },
    "tags": []
   },
   "outputs": [
    {
     "name": "stdout",
     "output_type": "stream",
     "text": [
      "/kaggle/input/shipsmano2021/ships.tgz\n",
      "/kaggle/input/ships-custom-test-data-set/ships_test/vsmallfish/1.jpg\n",
      "/kaggle/input/ships-custom-test-data-set/ships_test/vsmallfish/3.jpg\n",
      "/kaggle/input/ships-custom-test-data-set/ships_test/vsmallfish/2.jpg\n",
      "/kaggle/input/ships-custom-test-data-set/ships_test/coastguard/1.png\n",
      "/kaggle/input/ships-custom-test-data-set/ships_test/coastguard/3.jpg\n",
      "/kaggle/input/ships-custom-test-data-set/ships_test/coastguard/2.jpg\n",
      "/kaggle/input/ships-custom-test-data-set/ships_test/submarine/1.png\n",
      "/kaggle/input/ships-custom-test-data-set/ships_test/submarine/2.png\n",
      "/kaggle/input/ships-custom-test-data-set/ships_test/submarine/4.jpg\n",
      "/kaggle/input/ships-custom-test-data-set/ships_test/submarine/3.jpg\n",
      "/kaggle/input/ships-custom-test-data-set/ships_test/cv/1.jpg\n",
      "/kaggle/input/ships-custom-test-data-set/ships_test/cv/4.jpg\n",
      "/kaggle/input/ships-custom-test-data-set/ships_test/cv/3.jpg\n",
      "/kaggle/input/ships-custom-test-data-set/ships_test/cv/2.jpg\n",
      "/kaggle/input/ships-custom-test-data-set/ships_test/ferry/1.jpg\n",
      "/kaggle/input/ships-custom-test-data-set/ships_test/ferry/4.jpg\n",
      "/kaggle/input/ships-custom-test-data-set/ships_test/ferry/3.jpg\n",
      "/kaggle/input/ships-custom-test-data-set/ships_test/ferry/2.jpg\n",
      "/kaggle/input/ships-custom-test-data-set/ships_test/containership/1.jpg\n",
      "/kaggle/input/ships-custom-test-data-set/ships_test/containership/3.jpg\n",
      "/kaggle/input/ships-custom-test-data-set/ships_test/containership/2.jpg\n",
      "/kaggle/input/ships-custom-test-data-set/ships_test/sailing/1.jpg\n",
      "/kaggle/input/ships-custom-test-data-set/ships_test/sailing/4jpg.jpg\n",
      "/kaggle/input/ships-custom-test-data-set/ships_test/sailing/3.jpg\n",
      "/kaggle/input/ships-custom-test-data-set/ships_test/sailing/2.jpg\n",
      "/kaggle/input/ships-custom-test-data-set/ships_test/methanier/1.jpg\n",
      "/kaggle/input/ships-custom-test-data-set/ships_test/methanier/4.jpg\n",
      "/kaggle/input/ships-custom-test-data-set/ships_test/methanier/3.jpg\n",
      "/kaggle/input/ships-custom-test-data-set/ships_test/methanier/2.jpg\n",
      "/kaggle/input/ships-custom-test-data-set/ships_test/tug/1.jpg\n",
      "/kaggle/input/ships-custom-test-data-set/ships_test/tug/4.jpg\n",
      "/kaggle/input/ships-custom-test-data-set/ships_test/tug/3.jpg\n",
      "/kaggle/input/ships-custom-test-data-set/ships_test/tug/2.jpg\n",
      "/kaggle/input/ships-custom-test-data-set/ships_test/corvette/1.jpg\n",
      "/kaggle/input/ships-custom-test-data-set/ships_test/corvette/2.png\n",
      "/kaggle/input/ships-custom-test-data-set/ships_test/corvette/4.jpg\n",
      "/kaggle/input/ships-custom-test-data-set/ships_test/corvette/3.jpg\n",
      "/kaggle/input/ships-custom-test-data-set/ships_test/smallfish/4.png\n",
      "/kaggle/input/ships-custom-test-data-set/ships_test/smallfish/1.jpg\n",
      "/kaggle/input/ships-custom-test-data-set/ships_test/smallfish/3.jpg\n",
      "/kaggle/input/ships-custom-test-data-set/ships_test/smallfish/2.jpg\n",
      "/kaggle/input/ships-custom-test-data-set/ships_test/cruiser/1.jpg\n",
      "/kaggle/input/ships-custom-test-data-set/ships_test/cruiser/2.png\n",
      "/kaggle/input/ships-custom-test-data-set/ships_test/cruiser/3.jpg\n",
      "/kaggle/input/ships-custom-test-data-set/ships_test/destroyer/1.jpg\n",
      "/kaggle/input/ships-custom-test-data-set/ships_test/destroyer/4.jpg\n",
      "/kaggle/input/ships-custom-test-data-set/ships_test/destroyer/3.jpg\n",
      "/kaggle/input/ships-custom-test-data-set/ships_test/destroyer/2.jpg\n",
      "coastguard     corvette  cv\t    ferry      sailing\t  submarine  vsmallfish\r\n",
      "containership  cruiser\t destroyer  methanier  smallfish  tug\r\n"
     ]
    }
   ],
   "source": [
    "import numpy as np # linear algebra\n",
    "import pandas as pd # data processing, CSV file I/O (e.g. pd.read_csv)\n",
    "\n",
    "import os\n",
    "for dirname, _, filenames in os.walk('/kaggle/input'):\n",
    "    for filename in filenames:\n",
    "        print(os.path.join(dirname, filename))\n",
    "\n",
    "!tar xzf /kaggle/input/shipsmano2021/ships.tgz\n",
    "!ls /kaggle/working/ships_scaled/train"
   ]
  },
  {
   "cell_type": "markdown",
   "id": "impossible-kazakhstan",
   "metadata": {
    "papermill": {
     "duration": 0.050717,
     "end_time": "2021-05-01T17:56:27.645837",
     "exception": false,
     "start_time": "2021-05-01T17:56:27.595120",
     "status": "completed"
    },
    "tags": []
   },
   "source": [
    "# Générateur de données d'entrainement\n",
    "\n",
    "Afin d'augmenter notre jeu de données déjà bien fournies, nous utilisons l'*ImageDataGenerator* de keras.\n",
    "Celui-ci va créer un jeu de données d'entraînement ainsi qu'un jeu de donnée de test.\n",
    "\n",
    "En plus de cela, et afin d'entraîner notre modèle sur des images de types et qualités différentes, le générateur va pouvoir modifier l'image en la déplançant à gauche, à droite, en haut et en bas. Il va également pouvoir zoomer sur l'image ou encore y effectuer une symétrie. Tout ceci va permettre à notre modèle d'apprendre beaucoup de cas différent.\n",
    "\n",
    "Enfin, nous savons que le jeu de données d'entrainement fournis à un problème, certaines images sont en mode portrait pendant que d'autres sont en paysages. Cela pose problème puisque le générateur utilisé va devoir étirer ou rétrécir les images pour qu'elle soient toutes aux mêmes dimensions. Afin de contrer ce problème, nous avons décider de rétrécir les images jusqu'aux dimensions 85 par 85."
   ]
  },
  {
   "cell_type": "code",
   "execution_count": 2,
   "id": "allied-camcorder",
   "metadata": {
    "execution": {
     "iopub.execute_input": "2021-05-01T17:56:27.774601Z",
     "iopub.status.busy": "2021-05-01T17:56:27.771093Z",
     "iopub.status.idle": "2021-05-01T17:56:35.451728Z",
     "shell.execute_reply": "2021-05-01T17:56:35.452371Z"
    },
    "papermill": {
     "duration": 7.75202,
     "end_time": "2021-05-01T17:56:35.452577",
     "exception": false,
     "start_time": "2021-05-01T17:56:27.700557",
     "status": "completed"
    },
    "tags": []
   },
   "outputs": [
    {
     "name": "stdout",
     "output_type": "stream",
     "text": [
      "Found 41385 images belonging to 13 classes.\n",
      "Found 6177 images belonging to 13 classes.\n"
     ]
    }
   ],
   "source": [
    "from keras.preprocessing.image import ImageDataGenerator \n",
    "batch_size = 32\n",
    "train_datagen = ImageDataGenerator(\n",
    "        rescale=1./255,\n",
    "        horizontal_flip=True,     # Symétrie\n",
    "        shear_range=0.1,          \n",
    "        zoom_range=0.1,           # Zoom\n",
    "        width_shift_range=0.1,    # Déplacement de l'image sur la largeur\n",
    "        height_shift_range=0.1,   # Déplacement de l'image sur la hauteur\n",
    "        validation_split=0.13)    # 13% des images seront utilisées pour la validation\n",
    "\n",
    "# Création du data set d'entrainement\n",
    "train_generator = train_datagen.flow_from_directory(\n",
    "        'ships_scaled/train',\n",
    "        target_size=(85, 85),     # Nouvelle taille de chaque image\n",
    "        batch_size=batch_size,\n",
    "        subset=\"training\")\n",
    "\n",
    "# Création du data set de validation\n",
    "validation_generator = train_datagen.flow_from_directory(\n",
    "        'ships_scaled/train',\n",
    "        target_size=(85, 85),     # Nouvelle taille de chaque image\n",
    "        batch_size=batch_size,\n",
    "        subset=\"validation\")"
   ]
  },
  {
   "cell_type": "code",
   "execution_count": 3,
   "id": "faced-transcript",
   "metadata": {
    "execution": {
     "iopub.execute_input": "2021-05-01T17:56:35.493750Z",
     "iopub.status.busy": "2021-05-01T17:56:35.493272Z",
     "iopub.status.idle": "2021-05-01T17:56:35.498396Z",
     "shell.execute_reply": "2021-05-01T17:56:35.497997Z"
    },
    "papermill": {
     "duration": 0.026401,
     "end_time": "2021-05-01T17:56:35.498498",
     "exception": false,
     "start_time": "2021-05-01T17:56:35.472097",
     "status": "completed"
    },
    "tags": []
   },
   "outputs": [],
   "source": [
    "from keras.utils.np_utils import to_categorical\n",
    "from keras.models import Sequential\n",
    "from keras.layers import Dense, Dropout, SpatialDropout2D, Flatten, Conv2D, MaxPool2D, BatchNormalization\n",
    "from keras.preprocessing.image import ImageDataGenerator\n",
    "from keras.callbacks import ReduceLROnPlateau, EarlyStopping"
   ]
  },
  {
   "cell_type": "markdown",
   "id": "altered-industry",
   "metadata": {
    "papermill": {
     "duration": 0.017011,
     "end_time": "2021-05-01T17:56:35.532992",
     "exception": false,
     "start_time": "2021-05-01T17:56:35.515981",
     "status": "completed"
    },
    "tags": []
   },
   "source": [
    "# Définition du modèle\n",
    "\n",
    "Après de nombreuses recherches, nous avons défini un modèle composé principalement d'une suite de convolution. Afin que le modèle puisse prendre en compte et comprendre le plus possible d'information, la taille du filtre utilisé par ces convolutions augmente progressivement.\n",
    "\n",
    "Entre chaqu'une de ces couches de convolution se situe des couches intermédiaires :\n",
    "* *SpatialDropout2D* et *Dropout* ont pour but de prévenir et éviter le plus possible l'*overfitting*.\n",
    "* *BatchNormalization* est utilisé pour normaliser les entrées entre des couches différentes.\n",
    "* *MaxPool2D* permet d'effectuer un sous-échantillonnage.\n",
    "\n",
    "Enfin, le réseau se termine par plusieurs couches denses afin de calculer le résultat."
   ]
  },
  {
   "cell_type": "code",
   "execution_count": 4,
   "id": "spatial-russian",
   "metadata": {
    "execution": {
     "iopub.execute_input": "2021-05-01T17:56:35.580790Z",
     "iopub.status.busy": "2021-05-01T17:56:35.580270Z",
     "iopub.status.idle": "2021-05-01T17:56:38.528336Z",
     "shell.execute_reply": "2021-05-01T17:56:38.527727Z"
    },
    "papermill": {
     "duration": 2.978221,
     "end_time": "2021-05-01T17:56:38.528479",
     "exception": false,
     "start_time": "2021-05-01T17:56:35.550258",
     "status": "completed"
    },
    "tags": []
   },
   "outputs": [
    {
     "name": "stdout",
     "output_type": "stream",
     "text": [
      "Model: \"sequential\"\n",
      "_________________________________________________________________\n",
      "Layer (type)                 Output Shape              Param #   \n",
      "=================================================================\n",
      "conv2d (Conv2D)              (None, 85, 85, 64)        1792      \n",
      "_________________________________________________________________\n",
      "spatial_dropout2d (SpatialDr (None, 85, 85, 64)        0         \n",
      "_________________________________________________________________\n",
      "conv2d_1 (Conv2D)            (None, 85, 85, 64)        36928     \n",
      "_________________________________________________________________\n",
      "max_pooling2d (MaxPooling2D) (None, 42, 42, 64)        0         \n",
      "_________________________________________________________________\n",
      "conv2d_2 (Conv2D)            (None, 42, 42, 128)       73856     \n",
      "_________________________________________________________________\n",
      "conv2d_3 (Conv2D)            (None, 42, 42, 128)       147584    \n",
      "_________________________________________________________________\n",
      "dropout (Dropout)            (None, 42, 42, 128)       0         \n",
      "_________________________________________________________________\n",
      "conv2d_4 (Conv2D)            (None, 42, 42, 128)       147584    \n",
      "_________________________________________________________________\n",
      "batch_normalization (BatchNo (None, 42, 42, 128)       512       \n",
      "_________________________________________________________________\n",
      "max_pooling2d_1 (MaxPooling2 (None, 21, 21, 128)       0         \n",
      "_________________________________________________________________\n",
      "conv2d_5 (Conv2D)            (None, 21, 21, 256)       295168    \n",
      "_________________________________________________________________\n",
      "conv2d_6 (Conv2D)            (None, 21, 21, 256)       590080    \n",
      "_________________________________________________________________\n",
      "dropout_1 (Dropout)          (None, 21, 21, 256)       0         \n",
      "_________________________________________________________________\n",
      "conv2d_7 (Conv2D)            (None, 21, 21, 256)       590080    \n",
      "_________________________________________________________________\n",
      "batch_normalization_1 (Batch (None, 21, 21, 256)       1024      \n",
      "_________________________________________________________________\n",
      "max_pooling2d_2 (MaxPooling2 (None, 10, 10, 256)       0         \n",
      "_________________________________________________________________\n",
      "conv2d_8 (Conv2D)            (None, 10, 10, 512)       1180160   \n",
      "_________________________________________________________________\n",
      "conv2d_9 (Conv2D)            (None, 10, 10, 512)       2359808   \n",
      "_________________________________________________________________\n",
      "batch_normalization_2 (Batch (None, 10, 10, 512)       2048      \n",
      "_________________________________________________________________\n",
      "max_pooling2d_3 (MaxPooling2 (None, 5, 5, 512)         0         \n",
      "_________________________________________________________________\n",
      "conv2d_10 (Conv2D)           (None, 5, 5, 512)         2359808   \n",
      "_________________________________________________________________\n",
      "conv2d_11 (Conv2D)           (None, 5, 5, 512)         2359808   \n",
      "_________________________________________________________________\n",
      "batch_normalization_3 (Batch (None, 5, 5, 512)         2048      \n",
      "_________________________________________________________________\n",
      "flatten (Flatten)            (None, 12800)             0         \n",
      "_________________________________________________________________\n",
      "dense (Dense)                (None, 64)                819264    \n",
      "_________________________________________________________________\n",
      "dropout_2 (Dropout)          (None, 64)                0         \n",
      "_________________________________________________________________\n",
      "dense_1 (Dense)              (None, 32)                2080      \n",
      "_________________________________________________________________\n",
      "batch_normalization_4 (Batch (None, 32)                128       \n",
      "_________________________________________________________________\n",
      "dense_2 (Dense)              (None, 13)                429       \n",
      "=================================================================\n",
      "Total params: 10,970,189\n",
      "Trainable params: 10,967,309\n",
      "Non-trainable params: 2,880\n",
      "_________________________________________________________________\n"
     ]
    }
   ],
   "source": [
    "model = Sequential()\n",
    "\n",
    "# Convolution 64\n",
    "model.add(Conv2D(filters = 64, kernel_size = (3, 3), padding = 'Same', \n",
    "                 activation ='relu', input_shape = (85, 85, 3)))\n",
    "model.add(SpatialDropout2D(0.2))\n",
    "model.add(Conv2D(filters = 64, kernel_size = (3, 3), padding = 'Same', \n",
    "                 activation ='relu'))\n",
    "model.add(MaxPool2D(pool_size=(2,2)))\n",
    "\n",
    "# Convolution 128\n",
    "model.add(Conv2D(filters = 128, kernel_size = (3, 3), padding = 'Same', \n",
    "                 activation ='relu'))\n",
    "model.add(Conv2D(filters = 128, kernel_size = (3, 3),padding = 'Same', \n",
    "                 activation ='relu'))\n",
    "model.add(Dropout(0.2))\n",
    "model.add(Conv2D(filters = 128, kernel_size = (3, 3), padding = 'Same', \n",
    "                 activation ='relu'))\n",
    "model.add(BatchNormalization())\n",
    "model.add(MaxPool2D(pool_size=(2,2)))\n",
    "\n",
    "# Convolution 256\n",
    "model.add(Conv2D(filters = 256, kernel_size = (3, 3),padding = 'Same', \n",
    "                 activation ='relu'))\n",
    "model.add(Conv2D(filters = 256, kernel_size = (3, 3),padding = 'Same', \n",
    "                 activation ='relu'))\n",
    "model.add(Dropout(0.2))\n",
    "model.add(Conv2D(filters = 256, kernel_size = (3, 3), padding = 'Same', \n",
    "                 activation ='relu'))\n",
    "model.add(BatchNormalization())\n",
    "model.add(MaxPool2D(pool_size=(2,2)))\n",
    "\n",
    "# Convolution 512\n",
    "model.add(Conv2D(filters = 512, kernel_size = (3, 3),padding = 'Same', \n",
    "                 activation ='relu'))\n",
    "model.add(Conv2D(filters = 512, kernel_size = (3, 3),padding = 'Same', \n",
    "                 activation ='relu'))\n",
    "model.add(BatchNormalization())\n",
    "model.add(MaxPool2D(pool_size=(2,2)))\n",
    "\n",
    "model.add(Conv2D(filters = 512, kernel_size = (3, 3),padding = 'Same', \n",
    "                 activation ='relu'))\n",
    "model.add(Conv2D(filters = 512, kernel_size = (3, 3),padding = 'Same', \n",
    "                 activation ='relu'))\n",
    "model.add(BatchNormalization())\n",
    "\n",
    "# fully connected\n",
    "model.add(Flatten())\n",
    "model.add(Dense(64, activation = \"relu\"))\n",
    "model.add(Dropout(0.2))\n",
    "model.add(Dense(32, activation = \"relu\"))\n",
    "model.add(BatchNormalization())\n",
    "model.add(Dense(13, activation = \"softmax\"))\n",
    "\n",
    "model.summary()"
   ]
  },
  {
   "cell_type": "markdown",
   "id": "engaging-printing",
   "metadata": {
    "papermill": {
     "duration": 0.017759,
     "end_time": "2021-05-01T17:56:38.567129",
     "exception": false,
     "start_time": "2021-05-01T17:56:38.549370",
     "status": "completed"
    },
    "tags": []
   },
   "source": [
    "# Configuration du modèle pour l'entrainement\n",
    "* On utilise ici comme fonction de perte l'entropie croisée catégorielle, utilisée dans les tâches de classification multi-classes.\n",
    "* Adam est un algorithme d'optimisation qui peut être utilisé à la place de la procédure classique de descente de gradient stochastique. En effet, il a été démontré comme étant plus efficace sur le plan calculatoire et usage mémoire."
   ]
  },
  {
   "cell_type": "code",
   "execution_count": 5,
   "id": "charged-nomination",
   "metadata": {
    "execution": {
     "iopub.execute_input": "2021-05-01T17:56:38.613275Z",
     "iopub.status.busy": "2021-05-01T17:56:38.612345Z",
     "iopub.status.idle": "2021-05-01T17:56:38.618410Z",
     "shell.execute_reply": "2021-05-01T17:56:38.617987Z"
    },
    "papermill": {
     "duration": 0.033699,
     "end_time": "2021-05-01T17:56:38.618520",
     "exception": false,
     "start_time": "2021-05-01T17:56:38.584821",
     "status": "completed"
    },
    "tags": []
   },
   "outputs": [],
   "source": [
    "from keras.optimizers import RMSprop,Adam\n",
    "optimizer = Adam(lr=0.001, beta_1=0.9, beta_2=0.999)\n",
    "\n",
    "model.compile(optimizer = optimizer, loss = \"categorical_crossentropy\", metrics=[\"accuracy\"])"
   ]
  },
  {
   "cell_type": "markdown",
   "id": "subsequent-newspaper",
   "metadata": {
    "papermill": {
     "duration": 0.018124,
     "end_time": "2021-05-01T17:56:38.654525",
     "exception": false,
     "start_time": "2021-05-01T17:56:38.636401",
     "status": "completed"
    },
    "tags": []
   },
   "source": [
    "Si un modèle ou des poids pour ce modèle on déjà été calculés, nous pouvons les charger afin d'éviter un nouvel entrainement complet."
   ]
  },
  {
   "cell_type": "code",
   "execution_count": 6,
   "id": "demanding-framework",
   "metadata": {
    "execution": {
     "iopub.execute_input": "2021-05-01T17:56:38.695063Z",
     "iopub.status.busy": "2021-05-01T17:56:38.694428Z",
     "iopub.status.idle": "2021-05-01T17:56:38.697356Z",
     "shell.execute_reply": "2021-05-01T17:56:38.696807Z"
    },
    "papermill": {
     "duration": 0.025158,
     "end_time": "2021-05-01T17:56:38.697495",
     "exception": false,
     "start_time": "2021-05-01T17:56:38.672337",
     "status": "completed"
    },
    "tags": []
   },
   "outputs": [],
   "source": [
    "from keras.models import load_model\n",
    "\n",
    "model_save_path = \"save_model.h5\"\n",
    "weights_save_path = \"save_weights.h5\"\n",
    "\n",
    "if os.path.isfile(model_save_path):\n",
    "    model = load_model(model_save_path)\n",
    "    print(\"Model saved loaded\")\n",
    "    \n",
    "if os.path.isfile(weights_save_path):\n",
    "    model.load_weights(weights_save_path)\n",
    "    print(\"Weights saved load on model\")"
   ]
  },
  {
   "cell_type": "code",
   "execution_count": 7,
   "id": "received-lodging",
   "metadata": {
    "execution": {
     "iopub.execute_input": "2021-05-01T17:56:38.737873Z",
     "iopub.status.busy": "2021-05-01T17:56:38.737181Z",
     "iopub.status.idle": "2021-05-01T17:56:38.741034Z",
     "shell.execute_reply": "2021-05-01T17:56:38.740490Z"
    },
    "papermill": {
     "duration": 0.025404,
     "end_time": "2021-05-01T17:56:38.741140",
     "exception": false,
     "start_time": "2021-05-01T17:56:38.715736",
     "status": "completed"
    },
    "tags": []
   },
   "outputs": [
    {
     "name": "stdout",
     "output_type": "stream",
     "text": [
      "Nombre de couches :  29\n"
     ]
    }
   ],
   "source": [
    "print(\"Nombre de couches : \", len(model.layers))"
   ]
  },
  {
   "cell_type": "markdown",
   "id": "polish-punch",
   "metadata": {
    "papermill": {
     "duration": 0.018707,
     "end_time": "2021-05-01T17:56:38.778317",
     "exception": false,
     "start_time": "2021-05-01T17:56:38.759610",
     "status": "completed"
    },
    "tags": []
   },
   "source": [
    "# Procédure d'entrainement du modèle"
   ]
  },
  {
   "cell_type": "markdown",
   "id": "compact-temperature",
   "metadata": {
    "papermill": {
     "duration": 0.018444,
     "end_time": "2021-05-01T17:56:38.815290",
     "exception": false,
     "start_time": "2021-05-01T17:56:38.796846",
     "status": "completed"
    },
    "tags": []
   },
   "source": [
    "Afin d'éviter le sur-entrainement, nous utilisons un *EarlyStopping* qui va, dans le cas où le résultat sur le jeu de test stagne, arrêter l'entrainement automatiquement."
   ]
  },
  {
   "cell_type": "code",
   "execution_count": 8,
   "id": "seven-allen",
   "metadata": {
    "execution": {
     "iopub.execute_input": "2021-05-01T17:56:38.855858Z",
     "iopub.status.busy": "2021-05-01T17:56:38.855192Z",
     "iopub.status.idle": "2021-05-01T17:56:38.857904Z",
     "shell.execute_reply": "2021-05-01T17:56:38.857401Z"
    },
    "papermill": {
     "duration": 0.024473,
     "end_time": "2021-05-01T17:56:38.858012",
     "exception": false,
     "start_time": "2021-05-01T17:56:38.833539",
     "status": "completed"
    },
    "tags": []
   },
   "outputs": [],
   "source": [
    "callback = EarlyStopping(monitor='val_loss', patience=4, restore_best_weights=True)"
   ]
  },
  {
   "cell_type": "code",
   "execution_count": 9,
   "id": "compatible-production",
   "metadata": {
    "execution": {
     "iopub.execute_input": "2021-05-01T17:56:38.898849Z",
     "iopub.status.busy": "2021-05-01T17:56:38.898186Z",
     "iopub.status.idle": "2021-05-01T18:55:07.023287Z",
     "shell.execute_reply": "2021-05-01T18:55:06.546700Z"
    },
    "papermill": {
     "duration": 3508.147103,
     "end_time": "2021-05-01T18:55:07.023472",
     "exception": false,
     "start_time": "2021-05-01T17:56:38.876369",
     "status": "completed"
    },
    "tags": []
   },
   "outputs": [
    {
     "name": "stderr",
     "output_type": "stream",
     "text": [
      "/opt/conda/lib/python3.7/site-packages/tensorflow/python/keras/engine/training.py:1844: UserWarning: `Model.fit_generator` is deprecated and will be removed in a future version. Please use `Model.fit`, which supports generators.\n",
      "  warnings.warn('`Model.fit_generator` is deprecated and '\n"
     ]
    },
    {
     "name": "stdout",
     "output_type": "stream",
     "text": [
      "Epoch 1/40\n",
      "1294/1294 [==============================] - 131s 97ms/step - loss: 2.5593 - accuracy: 0.1489 - val_loss: 2.2143 - val_accuracy: 0.2615\n",
      "Epoch 2/40\n",
      "1294/1294 [==============================] - 125s 96ms/step - loss: 2.0105 - accuracy: 0.3353 - val_loss: 1.5593 - val_accuracy: 0.4792\n",
      "Epoch 3/40\n",
      "1294/1294 [==============================] - 125s 96ms/step - loss: 1.5154 - accuracy: 0.4954 - val_loss: 1.2073 - val_accuracy: 0.5940\n",
      "Epoch 4/40\n",
      "1294/1294 [==============================] - 126s 97ms/step - loss: 1.1897 - accuracy: 0.6019 - val_loss: 1.0962 - val_accuracy: 0.6330\n",
      "Epoch 5/40\n",
      "1294/1294 [==============================] - 136s 105ms/step - loss: 0.9983 - accuracy: 0.6671 - val_loss: 0.8465 - val_accuracy: 0.7081\n",
      "Epoch 6/40\n",
      "1294/1294 [==============================] - 130s 100ms/step - loss: 0.8922 - accuracy: 0.6981 - val_loss: 0.8917 - val_accuracy: 0.6963\n",
      "Epoch 7/40\n",
      "1294/1294 [==============================] - 130s 100ms/step - loss: 0.7818 - accuracy: 0.7379 - val_loss: 0.8328 - val_accuracy: 0.7112\n",
      "Epoch 8/40\n",
      "1294/1294 [==============================] - 128s 98ms/step - loss: 0.7197 - accuracy: 0.7583 - val_loss: 0.8072 - val_accuracy: 0.7317\n",
      "Epoch 9/40\n",
      "1294/1294 [==============================] - 130s 100ms/step - loss: 0.6562 - accuracy: 0.7775 - val_loss: 0.6728 - val_accuracy: 0.7678\n",
      "Epoch 10/40\n",
      "1294/1294 [==============================] - 130s 99ms/step - loss: 0.6094 - accuracy: 0.7933 - val_loss: 0.6660 - val_accuracy: 0.7790\n",
      "Epoch 11/40\n",
      "1294/1294 [==============================] - 127s 97ms/step - loss: 0.5553 - accuracy: 0.8108 - val_loss: 0.7017 - val_accuracy: 0.7623\n",
      "Epoch 12/40\n",
      "1294/1294 [==============================] - 130s 100ms/step - loss: 0.5277 - accuracy: 0.8228 - val_loss: 0.5764 - val_accuracy: 0.8080\n",
      "Epoch 13/40\n",
      "1294/1294 [==============================] - 127s 97ms/step - loss: 0.4779 - accuracy: 0.8381 - val_loss: 0.6824 - val_accuracy: 0.7792\n",
      "Epoch 14/40\n",
      "1294/1294 [==============================] - 132s 101ms/step - loss: 0.4578 - accuracy: 0.8464 - val_loss: 0.5547 - val_accuracy: 0.8161\n",
      "Epoch 15/40\n",
      "1294/1294 [==============================] - 127s 98ms/step - loss: 0.4151 - accuracy: 0.8609 - val_loss: 0.6488 - val_accuracy: 0.7891\n",
      "Epoch 16/40\n",
      "1294/1294 [==============================] - 132s 101ms/step - loss: 0.3954 - accuracy: 0.8672 - val_loss: 0.5189 - val_accuracy: 0.8300\n",
      "Epoch 17/40\n",
      "1294/1294 [==============================] - 129s 99ms/step - loss: 0.3804 - accuracy: 0.8716 - val_loss: 0.5183 - val_accuracy: 0.8303\n",
      "Epoch 18/40\n",
      "1294/1294 [==============================] - 130s 100ms/step - loss: 0.3532 - accuracy: 0.8813 - val_loss: 0.4964 - val_accuracy: 0.8370\n",
      "Epoch 19/40\n",
      "1294/1294 [==============================] - 134s 103ms/step - loss: 0.3276 - accuracy: 0.8888 - val_loss: 0.4807 - val_accuracy: 0.8470\n",
      "Epoch 20/40\n",
      "1294/1294 [==============================] - 128s 98ms/step - loss: 0.3065 - accuracy: 0.8976 - val_loss: 0.4409 - val_accuracy: 0.8582\n",
      "Epoch 21/40\n",
      "1294/1294 [==============================] - 128s 98ms/step - loss: 0.2974 - accuracy: 0.9012 - val_loss: 0.5316 - val_accuracy: 0.8345\n",
      "Epoch 22/40\n",
      "1294/1294 [==============================] - 129s 99ms/step - loss: 0.2756 - accuracy: 0.9076 - val_loss: 0.5777 - val_accuracy: 0.8234\n",
      "Epoch 23/40\n",
      "1294/1294 [==============================] - 138s 106ms/step - loss: 0.2655 - accuracy: 0.9119 - val_loss: 0.4274 - val_accuracy: 0.8663\n",
      "Epoch 24/40\n",
      "1294/1294 [==============================] - 126s 97ms/step - loss: 0.2517 - accuracy: 0.9163 - val_loss: 0.4662 - val_accuracy: 0.8642\n",
      "Epoch 25/40\n",
      "1294/1294 [==============================] - 129s 99ms/step - loss: 0.2401 - accuracy: 0.9212 - val_loss: 0.4543 - val_accuracy: 0.8627\n",
      "Epoch 26/40\n",
      "1294/1294 [==============================] - 129s 99ms/step - loss: 0.2287 - accuracy: 0.9236 - val_loss: 0.4576 - val_accuracy: 0.8611\n",
      "Epoch 27/40\n",
      "1294/1294 [==============================] - 135s 103ms/step - loss: 0.2138 - accuracy: 0.9269 - val_loss: 0.4559 - val_accuracy: 0.8626\n"
     ]
    }
   ],
   "source": [
    "history = model.fit_generator(generator=train_generator,\n",
    "                    validation_data=validation_generator,\n",
    "                    use_multiprocessing=True,\n",
    "                    workers=8, epochs=40, callbacks=[callback])"
   ]
  },
  {
   "cell_type": "markdown",
   "id": "municipal-celebrity",
   "metadata": {
    "papermill": {
     "duration": 9.737784,
     "end_time": "2021-05-01T18:55:26.202363",
     "exception": false,
     "start_time": "2021-05-01T18:55:16.464579",
     "status": "completed"
    },
    "tags": []
   },
   "source": [
    "**Sauvegarde du modèle et des poids associées**\n",
    "\n",
    "Afin d'éviter de devoir réeffectuer l'apprentissage à chaque fois, nous enregistrons les données du modèle et des poids calculés. Ils seront rechargés lors d'une exécution ultérieure."
   ]
  },
  {
   "cell_type": "code",
   "execution_count": 10,
   "id": "indie-webmaster",
   "metadata": {
    "execution": {
     "iopub.execute_input": "2021-05-01T18:55:44.568329Z",
     "iopub.status.busy": "2021-05-01T18:55:44.556805Z",
     "iopub.status.idle": "2021-05-01T18:55:44.947677Z",
     "shell.execute_reply": "2021-05-01T18:55:44.946679Z"
    },
    "papermill": {
     "duration": 9.479163,
     "end_time": "2021-05-01T18:55:44.947840",
     "exception": false,
     "start_time": "2021-05-01T18:55:35.468677",
     "status": "completed"
    },
    "tags": []
   },
   "outputs": [],
   "source": [
    "model.save(model_save_path)\n",
    "model.save_weights(weights_save_path)"
   ]
  },
  {
   "cell_type": "markdown",
   "id": "twelve-system",
   "metadata": {
    "papermill": {
     "duration": 9.789011,
     "end_time": "2021-05-01T18:56:03.975693",
     "exception": false,
     "start_time": "2021-05-01T18:55:54.186682",
     "status": "completed"
    },
    "tags": []
   },
   "source": [
    "# Résultats\n",
    "\n",
    "Voici le graphique représentant l'historique de la précision du modèle tout au long de son apprentissage. Et ce, avec le jeu d'entraînement et le jeu de test."
   ]
  },
  {
   "cell_type": "code",
   "execution_count": 11,
   "id": "adverse-setup",
   "metadata": {
    "execution": {
     "iopub.execute_input": "2021-05-01T18:56:22.720572Z",
     "iopub.status.busy": "2021-05-01T18:56:22.719318Z",
     "iopub.status.idle": "2021-05-01T18:56:22.868133Z",
     "shell.execute_reply": "2021-05-01T18:56:22.868531Z"
    },
    "papermill": {
     "duration": 9.55018,
     "end_time": "2021-05-01T18:56:22.868670",
     "exception": false,
     "start_time": "2021-05-01T18:56:13.318490",
     "status": "completed"
    },
    "tags": []
   },
   "outputs": [
    {
     "data": {
      "image/png": "[encoded data removed]",
      "text/plain": [
       "<Figure size 432x288 with 1 Axes>"
      ]
     },
     "metadata": {
      "needs_background": "light"
     },
     "output_type": "display_data"
    }
   ],
   "source": [
    "import matplotlib.pyplot as plt\n",
    "\n",
    "plt.plot(history.history['accuracy'], color='b', label=\"Accuracy\")\n",
    "plt.plot(history.history['val_accuracy'], color='y', label='Val Accuracy')\n",
    "plt.title(\"Overall Accuracy\")\n",
    "plt.xlabel(\"Epochs\")\n",
    "plt.ylabel(\"Accuracy\")\n",
    "plt.ylabel(\"Val Accuracy\")\n",
    "plt.legend()\n",
    "plt.show()"
   ]
  },
  {
   "cell_type": "markdown",
   "id": "valid-chrome",
   "metadata": {
    "papermill": {
     "duration": 9.405152,
     "end_time": "2021-05-01T18:56:42.102471",
     "exception": false,
     "start_time": "2021-05-01T18:56:32.697319",
     "status": "completed"
    },
    "tags": []
   },
   "source": [
    "**Test et création des résultats pour la compétition Kaggle**\n",
    "\n",
    "Les images doivent elles aussi être redimensionnées pour pouvoir être acceptée par le model."
   ]
  },
  {
   "cell_type": "code",
   "execution_count": 12,
   "id": "liked-associate",
   "metadata": {
    "execution": {
     "iopub.execute_input": "2021-05-01T18:57:01.213226Z",
     "iopub.status.busy": "2021-05-01T18:57:01.212514Z",
     "iopub.status.idle": "2021-05-01T18:57:09.541287Z",
     "shell.execute_reply": "2021-05-01T18:57:09.542733Z"
    },
    "papermill": {
     "duration": 18.226573,
     "end_time": "2021-05-01T18:57:09.543002",
     "exception": false,
     "start_time": "2021-05-01T18:56:51.316429",
     "status": "completed"
    },
    "tags": []
   },
   "outputs": [],
   "source": [
    "import numpy as np\n",
    "import pandas as pd\n",
    "from skimage.transform import resize\n",
    "\n",
    "X_test = np.load('/kaggle/working/test.npy', allow_pickle=True)\n",
    "X_test = X_test.astype('float32') / 255\n",
    "\n",
    "# Redimentionnement des images\n",
    "new_shape = (85, 85, 3)\n",
    "X_test_resized = []\n",
    "for e in X_test:\n",
    "    X_test_resized.append(resize(e, new_shape))\n",
    "X_test_resized = np.asarray(X_test_resized)"
   ]
  },
  {
   "cell_type": "code",
   "execution_count": 13,
   "id": "hidden-custody",
   "metadata": {
    "execution": {
     "iopub.execute_input": "2021-05-01T18:57:28.052833Z",
     "iopub.status.busy": "2021-05-01T18:57:28.051941Z",
     "iopub.status.idle": "2021-05-01T18:57:29.759948Z",
     "shell.execute_reply": "2021-05-01T18:57:29.759447Z"
    },
    "papermill": {
     "duration": 10.92754,
     "end_time": "2021-05-01T18:57:29.760082",
     "exception": false,
     "start_time": "2021-05-01T18:57:18.832542",
     "status": "completed"
    },
    "tags": []
   },
   "outputs": [
    {
     "name": "stdout",
     "output_type": "stream",
     "text": [
      "Id,Category\r\n",
      "0,6\r\n",
      "1,11\r\n",
      "2,11\r\n",
      "3,11\r\n",
      "4,1\r\n",
      "5,8\r\n",
      "6,11\r\n",
      "7,5\r\n",
      "8,2\r\n"
     ]
    }
   ],
   "source": [
    "res = model.predict(X_test_resized).argmax(axis=1)\n",
    "df = pd.DataFrame({\"Category\":res})\n",
    "df.to_csv(\"reco_nav.csv\", index_label=\"Id\")\n",
    "\n",
    "!head reco_nav.csv"
   ]
  },
  {
   "cell_type": "code",
   "execution_count": 14,
   "id": "informative-litigation",
   "metadata": {
    "execution": {
     "iopub.execute_input": "2021-05-01T18:57:48.905832Z",
     "iopub.status.busy": "2021-05-01T18:57:48.904411Z",
     "iopub.status.idle": "2021-05-01T18:57:48.908563Z",
     "shell.execute_reply": "2021-05-01T18:57:48.908142Z"
    },
    "papermill": {
     "duration": 9.339158,
     "end_time": "2021-05-01T18:57:48.908682",
     "exception": false,
     "start_time": "2021-05-01T18:57:39.569524",
     "status": "completed"
    },
    "tags": []
   },
   "outputs": [
    {
     "data": {
      "text/html": [
       "<a href='reco_nav.csv' target='_blank'>reco_nav.csv</a><br>"
      ],
      "text/plain": [
       "/kaggle/working/reco_nav.csv"
      ]
     },
     "execution_count": 14,
     "metadata": {},
     "output_type": "execute_result"
    }
   ],
   "source": [
    "import os\n",
    "os.chdir(r'/kaggle/working')\n",
    "from IPython.display import FileLink\n",
    "FileLink(r'reco_nav.csv')"
   ]
  },
  {
   "cell_type": "markdown",
   "id": "double-emphasis",
   "metadata": {
    "papermill": {
     "duration": 9.716343,
     "end_time": "2021-05-01T18:58:08.048021",
     "exception": false,
     "start_time": "2021-05-01T18:57:58.331678",
     "status": "completed"
    },
    "tags": []
   },
   "source": [
    "**Matrice de confusion sur le set de validation**\n",
    "\n",
    "On affiche une matrice confusion des résultats obtenus sur les images du 1er batch (32 images)"
   ]
  },
  {
   "cell_type": "code",
   "execution_count": 15,
   "id": "humanitarian-findings",
   "metadata": {
    "execution": {
     "iopub.execute_input": "2021-05-01T18:58:26.703565Z",
     "iopub.status.busy": "2021-05-01T18:58:26.702969Z",
     "iopub.status.idle": "2021-05-01T18:58:27.938958Z",
     "shell.execute_reply": "2021-05-01T18:58:27.937912Z"
    },
    "papermill": {
     "duration": 10.621055,
     "end_time": "2021-05-01T18:58:27.939094",
     "exception": false,
     "start_time": "2021-05-01T18:58:17.318039",
     "status": "completed"
    },
    "tags": []
   },
   "outputs": [
    {
     "name": "stdout",
     "output_type": "stream",
     "text": [
      "True label (category) values:  [ 9  1  1 10  3  9  5  0 10 12  1  5 12  4 11 11 11 12 11  5  5 10 12  2\n",
      "  9  3  3  1  7  5  1 12]\n",
      "Predicted label values:  [ 9  1  1 10  3  9  0 12 10  9  1  5 12  4 11 11 11 12 11  5  5  6 11  2\n",
      "  9  3  3  1  7  5  1 12]\n"
     ]
    },
    {
     "data": {
      "image/png": "[encoded data removed]",
      "text/plain": [
       "<Figure size 720x720 with 2 Axes>"
      ]
     },
     "metadata": {
      "needs_background": "light"
     },
     "output_type": "display_data"
    }
   ],
   "source": [
    "from sklearn.metrics import confusion_matrix\n",
    "import seaborn as sns\n",
    "\n",
    "def compute_confusion(x, y_true):\n",
    "    # Normalize Data\n",
    "    max_value = float(x.max())\n",
    "    x = x.astype('float32') / max_value\n",
    "    \n",
    "    \"\"\"\n",
    "    model.predict(x) prend un batch de 32 images normalisées \n",
    "    predict renvoie pour chaque image un array de 13 probabilités\n",
    "    on récupère la probabilité maximale (=classe la plus probable selon la prédiction faite par le modèle)\n",
    "    \"\"\"\n",
    "    res = model.predict(x).argmax(axis=1)\n",
    "    \n",
    "    # y_true est une matrice 32 * 13 tout comme res\n",
    "    # sauf qu'ici les probabilités sont certaines pour chaque image [0, .., 1, ..]\n",
    "    y_true = np.argmax(y_true, axis=1) \n",
    "\n",
    "    print(\"True label (category) values: \", res)\n",
    "    print(\"Predicted label values: \", y_true)\n",
    "\n",
    "    confusion_mtx = confusion_matrix(y_true, res) \n",
    "    # plot the confusion matrix\n",
    "    f,ax = plt.subplots(figsize=(10, 10))\n",
    "    sns.heatmap(confusion_mtx, annot=True, linewidths=0.01,cmap=\"Greens\",linecolor=\"gray\", fmt= '.1f',ax=ax)\n",
    "    plt.xlabel(\"Predicted Label\")\n",
    "    plt.ylabel(\"True Label\")\n",
    "    plt.title(\"Confusion Matrix\")\n",
    "    plt.show()\n",
    "    \n",
    "(x, y_true) = validation_generator.next() # returns batch size (32) test samples\n",
    "compute_confusion(x, y_true)"
   ]
  },
  {
   "cell_type": "markdown",
   "id": "authentic-delicious",
   "metadata": {
    "papermill": {
     "duration": 9.841347,
     "end_time": "2021-05-01T18:58:47.052894",
     "exception": false,
     "start_time": "2021-05-01T18:58:37.211547",
     "status": "completed"
    },
    "tags": []
   },
   "source": [
    "**Test dataset evaluation**\n",
    "\n",
    "A partir d'un dataset fait maison, on cherche à évaluer l'efficacité du modèle."
   ]
  },
  {
   "cell_type": "code",
   "execution_count": 16,
   "id": "threaded-separate",
   "metadata": {
    "execution": {
     "iopub.execute_input": "2021-05-01T18:59:05.704712Z",
     "iopub.status.busy": "2021-05-01T18:59:05.704169Z",
     "iopub.status.idle": "2021-05-01T18:59:09.586815Z",
     "shell.execute_reply": "2021-05-01T18:59:09.587244Z"
    },
    "papermill": {
     "duration": 13.218718,
     "end_time": "2021-05-01T18:59:09.587393",
     "exception": false,
     "start_time": "2021-05-01T18:58:56.368675",
     "status": "completed"
    },
    "tags": []
   },
   "outputs": [
    {
     "name": "stdout",
     "output_type": "stream",
     "text": [
      "Found 48 images belonging to 13 classes.\n"
     ]
    },
    {
     "name": "stderr",
     "output_type": "stream",
     "text": [
      "/opt/conda/lib/python3.7/site-packages/tensorflow/python/keras/engine/training.py:1877: UserWarning: `Model.evaluate_generator` is deprecated and will be removed in a future version. Please use `Model.evaluate`, which supports generators.\n",
      "  warnings.warn('`Model.evaluate_generator` is deprecated and '\n"
     ]
    },
    {
     "name": "stdout",
     "output_type": "stream",
     "text": [
      "2/2 [==============================] - 2s 535ms/step - loss: 1.6946 - accuracy: 0.6458\n",
      "Test loss = 1.6945840120315552 || Test accuracy 0.6458333134651184\n"
     ]
    }
   ],
   "source": [
    "test_datagen = ImageDataGenerator(rescale=1./255)\n",
    "\n",
    "test_generator = test_datagen.flow_from_directory(\n",
    "        '/kaggle/input/ships-custom-test-data-set/ships_test/',\n",
    "        target_size=(85, 85),\n",
    "        batch_size=batch_size)\n",
    "\n",
    "test_res = model.evaluate_generator(test_generator, workers=8, use_multiprocessing=True, verbose=1)\n",
    "print(\"Test loss = {0} || Test accuracy {1}\".format(test_res[0], test_res[1]))"
   ]
  },
  {
   "cell_type": "markdown",
   "id": "vertical-penny",
   "metadata": {
    "papermill": {
     "duration": 9.301069,
     "end_time": "2021-05-01T18:59:28.892446",
     "exception": false,
     "start_time": "2021-05-01T18:59:19.591377",
     "status": "completed"
    },
    "tags": []
   },
   "source": [
    "**Matrice de confusion sur le set de test**"
   ]
  },
  {
   "cell_type": "code",
   "execution_count": 17,
   "id": "bigger-manner",
   "metadata": {
    "execution": {
     "iopub.execute_input": "2021-05-01T18:59:47.451583Z",
     "iopub.status.busy": "2021-05-01T18:59:47.450765Z",
     "iopub.status.idle": "2021-05-01T18:59:49.512707Z",
     "shell.execute_reply": "2021-05-01T18:59:49.513789Z"
    },
    "papermill": {
     "duration": 11.277858,
     "end_time": "2021-05-01T18:59:49.514015",
     "exception": false,
     "start_time": "2021-05-01T18:59:38.236157",
     "status": "completed"
    },
    "tags": []
   },
   "outputs": [
    {
     "name": "stdout",
     "output_type": "stream",
     "text": [
      "True label (category) values:  [12  8 10 12 11 12  2 12  2  4  2 11  2  2  5  6  5 11 10  7  7  1  2  6\n",
      "  6  8  4 10 12  4  1  4]\n",
      "Predicted label values:  [ 9  8 10 11 11 12  2  7  3  4  5 11  3  2  5  6  5 11 10  7  7  1  2  6\n",
      "  6  8  4 10  9  4  1  4]\n"
     ]
    },
    {
     "data": {
      "image/png": "[encoded data removed]",
      "text/plain": [
       "<Figure size 720x720 with 2 Axes>"
      ]
     },
     "metadata": {
      "needs_background": "light"
     },
     "output_type": "display_data"
    }
   ],
   "source": [
    "(x, y_true) = test_generator.next() # returns batch size (32) test samples\n",
    "compute_confusion(x, y_true)"
   ]
  },
  {
   "cell_type": "markdown",
   "id": "consolidated-domain",
   "metadata": {
    "papermill": {
     "duration": 9.059684,
     "end_time": "2021-05-01T19:00:08.159719",
     "exception": false,
     "start_time": "2021-05-01T18:59:59.100035",
     "status": "completed"
    },
    "tags": []
   },
   "source": [
    "Cleaning"
   ]
  },
  {
   "cell_type": "code",
   "execution_count": 18,
   "id": "operating-theater",
   "metadata": {
    "execution": {
     "iopub.execute_input": "2021-05-01T19:00:27.309950Z",
     "iopub.status.busy": "2021-05-01T19:00:27.309176Z",
     "iopub.status.idle": "2021-05-01T19:00:29.150156Z",
     "shell.execute_reply": "2021-05-01T19:00:29.148617Z"
    },
    "papermill": {
     "duration": 11.624784,
     "end_time": "2021-05-01T19:00:29.150292",
     "exception": false,
     "start_time": "2021-05-01T19:00:17.525508",
     "status": "completed"
    },
    "tags": []
   },
   "outputs": [],
   "source": [
    "!rm -rf ships_scaled/"
   ]
  }
 ],
 "metadata": {
  "kernelspec": {
   "display_name": "Python 3",
   "language": "python",
   "name": "python3"
  },
  "language_info": {
   "codemirror_mode": {
    "name": "ipython",
    "version": 3
   },
   "file_extension": ".py",
   "mimetype": "text/x-python",
   "name": "python",
   "nbconvert_exporter": "python",
   "pygments_lexer": "ipython3",
   "version": "3.7.9"
  },
  "papermill": {
   "default_parameters": {},
   "duration": 3870.666736,
   "end_time": "2021-05-01T19:00:41.698525",
   "environment_variables": {},
   "exception": null,
   "input_path": "__notebook__.ipynb",
   "output_path": "__notebook__.ipynb",
   "parameters": {},
   "start_time": "2021-05-01T17:56:11.031789",
   "version": "2.3.2"
  }
 },
 "nbformat": 4,
 "nbformat_minor": 5
}
